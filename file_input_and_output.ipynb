{
  "nbformat": 4,
  "nbformat_minor": 0,
  "metadata": {
    "colab": {
      "provenance": [],
      "toc_visible": true,
      "mount_file_id": "1r1QKG3UWMDDocJZua2gh1FymKl7d2BgH",
      "authorship_tag": "ABX9TyNbJgHXDRfuz9JMtzxbG4TD",
      "include_colab_link": true
    },
    "kernelspec": {
      "name": "python3",
      "display_name": "Python 3"
    },
    "language_info": {
      "name": "python"
    }
  },
  "cells": [
    {
      "cell_type": "markdown",
      "metadata": {
        "id": "view-in-github",
        "colab_type": "text"
      },
      "source": [
        "<a href=\"https://colab.research.google.com/github/ryuch/codes/blob/master/file_input_and_output.ipynb\" target=\"_parent\"><img src=\"https://colab.research.google.com/assets/colab-badge.svg\" alt=\"Open In Colab\"/></a>"
      ]
    },
    {
      "cell_type": "markdown",
      "source": [
        "# Files at Colab"
      ],
      "metadata": {
        "id": "2mxvmS49uV0O"
      }
    },
    {
      "cell_type": "code",
      "source": [
        "!ls -R sample_data\n",
        "\n",
        "# !cat drive/MyDrive/work/abc.txt"
      ],
      "metadata": {
        "colab": {
          "base_uri": "https://localhost:8080/"
        },
        "id": "Lxpb04_TuY_7",
        "outputId": "ffb68e64-4353-4a73-c914-553e2da0efe5"
      },
      "execution_count": null,
      "outputs": [
        {
          "output_type": "stream",
          "name": "stdout",
          "text": [
            "sample_data:\n",
            "anscombe.json\t\t      mnist_test.csv\n",
            "california_housing_test.csv   mnist_train_small.csv\n",
            "california_housing_train.csv  README.md\n"
          ]
        }
      ]
    },
    {
      "cell_type": "markdown",
      "source": [
        "# Write to a file"
      ],
      "metadata": {
        "id": "OsTwbl7vkE8z"
      }
    },
    {
      "cell_type": "code",
      "execution_count": null,
      "metadata": {
        "id": "2rq46kyfxkfn",
        "colab": {
          "base_uri": "https://localhost:8080/"
        },
        "outputId": "7656280c-9075-4795-89f4-465af290d695"
      },
      "outputs": [
        {
          "output_type": "stream",
          "name": "stdout",
          "text": [
            "Thu 20 Apr 2023 08:16:17 AM UTC\n",
            "total 36\n",
            "-rw-r--r-- 1 root root   53 Apr 20 02:44 abc.html\n",
            "-rw-r--r-- 1 root root   53 Apr 20 02:52 abc.md\n",
            "-rw-r--r-- 1 root root   21 Apr 20 08:16 abc.txt\n",
            "-rw-r--r-- 1 root root   11 Apr 20 06:37 a.bin\n",
            "-rw-r--r-- 1 root root    5 Apr 20 05:16 data.bin\n",
            "drwx------ 6 root root 4096 Apr 20 08:12 drive\n",
            "-rw-r--r-- 1 root root  230 Apr 20 05:05 multi-lines.txt\n",
            "drwxr-xr-x 1 root root 4096 Mar 31 13:36 sample_data\n",
            "-rw-r--r-- 1 root root  331 Apr 20 08:00 x,json\n"
          ]
        }
      ],
      "source": [
        "f = open(\"abc.txt\", \"wt\")\n",
        "f.write(\"Hello, this is Cheol.\")\n",
        "f.close()\n",
        "\n",
        "!date\n",
        "!ls -l"
      ]
    },
    {
      "cell_type": "markdown",
      "source": [
        "# Read from a file"
      ],
      "metadata": {
        "id": "IdIXEAhUkJVD"
      }
    },
    {
      "cell_type": "code",
      "source": [
        "f = open(\"abc.txt\", \"rt\")\n",
        "a = f.read()\n",
        "print(a)"
      ],
      "metadata": {
        "id": "4kyqdvRfkIov",
        "colab": {
          "base_uri": "https://localhost:8080/"
        },
        "outputId": "c7842761-adb0-41a0-8bc9-5d1436be1922"
      },
      "execution_count": null,
      "outputs": [
        {
          "output_type": "stream",
          "name": "stdout",
          "text": [
            "Hello, this is Cheol.\n"
          ]
        }
      ]
    },
    {
      "cell_type": "markdown",
      "source": [
        "# Read lines "
      ],
      "metadata": {
        "id": "BbQGA-askeD4"
      }
    },
    {
      "cell_type": "code",
      "source": [
        "f = open(\"multi-lines.txt\", \"wt\")\n",
        "for x in range(10):\n",
        "  f.write(f\"Hello, this is Cheol.{x}\\n\") # note \"\\n\"\n",
        "f.close()\n",
        "\n",
        "f = open(\"multi-lines.txt\", \"rt\")\n",
        "#a = f.read()\n",
        "for x in range(10):\n",
        "  a = f.readline()\n",
        "  print(a.strip())"
      ],
      "metadata": {
        "colab": {
          "base_uri": "https://localhost:8080/"
        },
        "id": "byrG3Ierkdgm",
        "outputId": "1d5d47b3-116a-4022-af3b-c2d4583c0b5a"
      },
      "execution_count": null,
      "outputs": [
        {
          "output_type": "stream",
          "name": "stdout",
          "text": [
            "Hello, this is Cheol.0\n",
            "Hello, this is Cheol.1\n",
            "Hello, this is Cheol.2\n",
            "Hello, this is Cheol.3\n",
            "Hello, this is Cheol.4\n",
            "Hello, this is Cheol.5\n",
            "Hello, this is Cheol.6\n",
            "Hello, this is Cheol.7\n",
            "Hello, this is Cheol.8\n",
            "Hello, this is Cheol.9\n"
          ]
        }
      ]
    },
    {
      "cell_type": "markdown",
      "source": [
        "# Read and write binary files"
      ],
      "metadata": {
        "id": "yosmM35PEC3J"
      }
    },
    {
      "cell_type": "code",
      "source": [
        "data = [1, 2, 3, 4, 5]\n",
        "with open(\"data.bin\", \"wb\") as f:\n",
        "    f.write(bytes(data))"
      ],
      "metadata": {
        "id": "ntdZfLqmDvVW"
      },
      "execution_count": null,
      "outputs": []
    },
    {
      "cell_type": "code",
      "source": [
        "with open(\"data.bin\", \"rb\") as f:\n",
        "    data = f.read()\n",
        "    for b in data:\n",
        "        print(b)"
      ],
      "metadata": {
        "colab": {
          "base_uri": "https://localhost:8080/"
        },
        "id": "-1m2GNVaEBF4",
        "outputId": "bbd1d9c8-cb7f-4c5a-9205-b8cea162a0d0"
      },
      "execution_count": null,
      "outputs": [
        {
          "output_type": "stream",
          "name": "stdout",
          "text": [
            "1\n",
            "2\n",
            "3\n",
            "4\n",
            "5\n"
          ]
        }
      ]
    },
    {
      "cell_type": "code",
      "source": [
        "import struct\n",
        "a = 'ABC'.encode()\n",
        "#a = b'ABC DEF'\n",
        "ap = struct.pack(\"i\", len(a))\n",
        "n, = struct.unpack(\"i\", ap)\n",
        "print(a, n)\n",
        "\n",
        "f = open(\"a.bin\", \"wb\")\n",
        "f.write(ap+a)\n",
        "f.close()\n",
        "\n",
        "f = open('a.bin', \"rb\")\n",
        "a = f.read()\n",
        "n, = struct.unpack(\"d\",a[0:4])\n",
        "print(n)\n"
      ],
      "metadata": {
        "colab": {
          "base_uri": "https://localhost:8080/",
          "height": 243
        },
        "id": "5lR3qQuxEBy0",
        "outputId": "e7577d0d-ae4c-481d-aca1-e0715339c4b0"
      },
      "execution_count": null,
      "outputs": [
        {
          "output_type": "stream",
          "name": "stdout",
          "text": [
            "b'ABC' 3\n"
          ]
        },
        {
          "output_type": "error",
          "ename": "error",
          "evalue": "ignored",
          "traceback": [
            "\u001b[0;31m---------------------------------------------------------------------------\u001b[0m",
            "\u001b[0;31merror\u001b[0m                                     Traceback (most recent call last)",
            "\u001b[0;32m<ipython-input-49-f3417ecbb8a0>\u001b[0m in \u001b[0;36m<cell line: 14>\u001b[0;34m()\u001b[0m\n\u001b[1;32m     12\u001b[0m \u001b[0mf\u001b[0m \u001b[0;34m=\u001b[0m \u001b[0mopen\u001b[0m\u001b[0;34m(\u001b[0m\u001b[0;34m'a.bin'\u001b[0m\u001b[0;34m,\u001b[0m \u001b[0;34m\"rb\"\u001b[0m\u001b[0;34m)\u001b[0m\u001b[0;34m\u001b[0m\u001b[0;34m\u001b[0m\u001b[0m\n\u001b[1;32m     13\u001b[0m \u001b[0ma\u001b[0m \u001b[0;34m=\u001b[0m \u001b[0mf\u001b[0m\u001b[0;34m.\u001b[0m\u001b[0mread\u001b[0m\u001b[0;34m(\u001b[0m\u001b[0;34m)\u001b[0m\u001b[0;34m\u001b[0m\u001b[0;34m\u001b[0m\u001b[0m\n\u001b[0;32m---> 14\u001b[0;31m \u001b[0mn\u001b[0m\u001b[0;34m,\u001b[0m \u001b[0;34m=\u001b[0m \u001b[0mstruct\u001b[0m\u001b[0;34m.\u001b[0m\u001b[0munpack\u001b[0m\u001b[0;34m(\u001b[0m\u001b[0;34m\"d\"\u001b[0m\u001b[0;34m,\u001b[0m\u001b[0ma\u001b[0m\u001b[0;34m[\u001b[0m\u001b[0;36m0\u001b[0m\u001b[0;34m:\u001b[0m\u001b[0;36m16\u001b[0m\u001b[0;34m]\u001b[0m\u001b[0;34m)\u001b[0m\u001b[0;34m\u001b[0m\u001b[0;34m\u001b[0m\u001b[0m\n\u001b[0m\u001b[1;32m     15\u001b[0m \u001b[0mprint\u001b[0m\u001b[0;34m(\u001b[0m\u001b[0mn\u001b[0m\u001b[0;34m)\u001b[0m\u001b[0;34m\u001b[0m\u001b[0;34m\u001b[0m\u001b[0m\n",
            "\u001b[0;31merror\u001b[0m: unpack requires a buffer of 8 bytes"
          ]
        }
      ]
    },
    {
      "cell_type": "markdown",
      "source": [
        "## Jason format"
      ],
      "metadata": {
        "id": "zN-RTyullgzC"
      }
    },
    {
      "cell_type": "code",
      "source": [
        "import json\n",
        "\n",
        "# some JSON:\n",
        "x = '[ 1, 2, 3]'\n",
        "\n",
        "# parse x:\n",
        "y = json.loads(x)\n",
        "\n",
        "# the result is a Python dictionary:\n",
        "print(y)\n"
      ],
      "metadata": {
        "colab": {
          "base_uri": "https://localhost:8080/"
        },
        "id": "B47Dp66el2si",
        "outputId": "2fb79fb1-b133-43d9-d928-c2fb441300e7"
      },
      "execution_count": null,
      "outputs": [
        {
          "output_type": "stream",
          "name": "stdout",
          "text": [
            "[1, 2, 3]\n"
          ]
        }
      ]
    },
    {
      "cell_type": "code",
      "source": [
        "import json\n",
        "\n",
        "print(json.dumps({\"name\": \"John\", \"age\": 30}))\n",
        "print(json.dumps([\"apple\", \"bananas\"]))\n",
        "print(json.dumps((\"apple\", \"bananas\")))\n",
        "print(json.dumps(\"hello\"))\n",
        "print(json.dumps(42))\n",
        "print(json.dumps(31.76))\n",
        "print(json.dumps(True))\n",
        "print(json.dumps(False))\n",
        "print(json.dumps(None))"
      ],
      "metadata": {
        "colab": {
          "base_uri": "https://localhost:8080/"
        },
        "id": "o-e1h5RxqGkl",
        "outputId": "23fe7041-2538-485b-da63-e261d4453f7a"
      },
      "execution_count": null,
      "outputs": [
        {
          "output_type": "stream",
          "name": "stdout",
          "text": [
            "{\"name\": \"John\", \"age\": 30}\n",
            "[\"apple\", \"bananas\"]\n",
            "[\"apple\", \"bananas\"]\n",
            "\"hello\"\n",
            "42\n",
            "31.76\n",
            "true\n",
            "false\n",
            "null\n"
          ]
        }
      ]
    },
    {
      "cell_type": "code",
      "source": [
        "import json\n",
        "\n",
        "# a Python object (dict):\n",
        "x = {\n",
        "  \"name\": \"John\",\n",
        "  \"age\": 30,\n",
        "  \"married\": True,\n",
        "  \"divorced\": False,\n",
        "  \"children\": (\"Ann\",\"Billy\"),\n",
        "  \"pets\": None,\n",
        "  \"cars\": [\n",
        "    {\"model\": \"BMW 230\", \"mpg\": 27.5},\n",
        "    {\"model\": \"Ford Edge\", \"mpg\": 24.1}\n",
        "  ]\n",
        "}\n",
        "\n",
        "\n",
        "# convert into JSON:\n",
        "y = json.dumps(x, indent=4)# , sort_keys=True)\n",
        "\n",
        "f = open('x,json', 'wt')\n",
        "f.write(y)\n",
        "f.close()\n",
        "\n",
        "f = open('x,json', 'rt')\n",
        "y = f.read()\n",
        "# the result is a JSON string:\n",
        "z = json.loads(y)\n",
        "if str(x) == str(z) : print(\"Same.\")\n",
        "\n",
        "print(str(x))\n",
        "print(str(z))"
      ],
      "metadata": {
        "colab": {
          "base_uri": "https://localhost:8080/"
        },
        "id": "4LqOh2i9mE_s",
        "outputId": "28d1d642-9ef1-4763-cc38-2f8891afda5d"
      },
      "execution_count": null,
      "outputs": [
        {
          "output_type": "stream",
          "name": "stdout",
          "text": [
            "{'name': 'John', 'age': 30, 'married': True, 'divorced': False, 'children': ('Ann', 'Billy'), 'pets': None, 'cars': [{'model': 'BMW 230', 'mpg': 27.5}, {'model': 'Ford Edge', 'mpg': 24.1}]}\n",
            "{'name': 'John', 'age': 30, 'married': True, 'divorced': False, 'children': ['Ann', 'Billy'], 'pets': None, 'cars': [{'model': 'BMW 230', 'mpg': 27.5}, {'model': 'Ford Edge', 'mpg': 24.1}]}\n"
          ]
        }
      ]
    },
    {
      "cell_type": "code",
      "source": [
        "import json\n",
        "\n",
        "x = \n",
        "\n",
        "print(json.dumps(x))"
      ],
      "metadata": {
        "id": "xOcMiLE_qZ-P"
      },
      "execution_count": null,
      "outputs": []
    }
  ]
}